{
 "cells": [
  {
   "cell_type": "code",
   "execution_count": 5,
   "id": "b6b920be-9e74-40f6-94c7-57c7e1d01442",
   "metadata": {},
   "outputs": [
    {
     "name": "stdout",
     "output_type": "stream",
     "text": [
      "\n",
      "    Hello I am EASPORTS, I am 1 years old. I love to eat BLUE POLAR_BEARS BURGERS.\n",
      "    I love to eat BLUE POLAR_BEARS BURGERS at MCDONALDS, I eat it 537 several times a week!\n",
      "\n"
     ]
    }
   ],
   "source": [
    "#Madlib for food\n",
    "#Fill in the spaces in the “”\n",
    "firstname = \"EA\"\n",
    "lastname = \"SPORTS\"\n",
    "age = \"1\"\n",
    "fav_color = \"BLUE\"\n",
    "fav_food = \"BURGERS\"\n",
    "fav_animal = \"POLAR_BEARS\"\n",
    "fav_place_to_eat = \"MCDONALDS\"\n",
    "fav_number = \"537\"\n",
    "#DO NOT TOUCH THIS PART PLEASE\n",
    "name= firstname + lastname\n",
    "madlib = f\"\"\"\n",
    "    Hello I am {name}, I am {age} years old. I love to eat {fav_color} {fav_animal} {fav_food}.\n",
    "    I love to eat {fav_color} {fav_animal} {fav_food} at {fav_place_to_eat}, I eat it {fav_number} several times a week!\n",
    "\"\"\"\n",
    "print(madlib)"
   ]
  },
  {
   "cell_type": "code",
   "execution_count": null,
   "id": "ccfac15f-4c4f-4b13-b284-0e4ba202d5f4",
   "metadata": {},
   "outputs": [],
   "source": []
  }
 ],
 "metadata": {
  "kernelspec": {
   "display_name": "Python 3 (ipykernel)",
   "language": "python",
   "name": "python3"
  },
  "language_info": {
   "codemirror_mode": {
    "name": "ipython",
    "version": 3
   },
   "file_extension": ".py",
   "mimetype": "text/x-python",
   "name": "python",
   "nbconvert_exporter": "python",
   "pygments_lexer": "ipython3",
   "version": "3.9.12"
  }
 },
 "nbformat": 4,
 "nbformat_minor": 5
}
